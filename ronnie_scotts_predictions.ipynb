{
 "cells": [
  {
   "cell_type": "markdown",
   "metadata": {},
   "source": [
    "# Ronnie Scott's\n",
    "\n",
    "1. Read data\n",
    "  a. Combine\n",
    "2. Generate embeddings\n",
    "3. Assign and save embeddings\n",
    "4. train test split\n",
    "5. train random forest \n",
    "6. assess, visualise, interpret"
   ]
  },
  {
   "cell_type": "code",
   "execution_count": 1,
   "metadata": {},
   "outputs": [],
   "source": [
    "import pandas as pd\n",
    "import tiktoken\n",
    "\n",
    "from utils.embeddings_utils import get_embedding\n",
    "\n",
    "import numpy as np\n",
    "from ast import literal_eval\n",
    "\n",
    "from sklearn.ensemble import RandomForestClassifier\n",
    "from sklearn.model_selection import train_test_split\n",
    "from sklearn.metrics import classification_report, accuracy_score"
   ]
  },
  {
   "cell_type": "code",
   "execution_count": 2,
   "metadata": {},
   "outputs": [
    {
     "name": "stdout",
     "output_type": "stream",
     "text": [
      "100\n"
     ]
    },
    {
     "data": {
      "text/html": [
       "<div>\n",
       "<style scoped>\n",
       "    .dataframe tbody tr th:only-of-type {\n",
       "        vertical-align: middle;\n",
       "    }\n",
       "\n",
       "    .dataframe tbody tr th {\n",
       "        vertical-align: top;\n",
       "    }\n",
       "\n",
       "    .dataframe thead th {\n",
       "        text-align: right;\n",
       "    }\n",
       "</style>\n",
       "<table border=\"1\" class=\"dataframe\">\n",
       "  <thead>\n",
       "    <tr style=\"text-align: right;\">\n",
       "      <th></th>\n",
       "      <th>Position</th>\n",
       "      <th>title</th>\n",
       "      <th>description</th>\n",
       "      <th>date</th>\n",
       "      <th>stage</th>\n",
       "      <th>image_url</th>\n",
       "      <th>Interested</th>\n",
       "      <th>combined</th>\n",
       "    </tr>\n",
       "  </thead>\n",
       "  <tbody>\n",
       "    <tr>\n",
       "      <th>0</th>\n",
       "      <td>1</td>\n",
       "      <td>Natalie Williams' Soul Family</td>\n",
       "      <td>Soul at its best: Natalie Williams hosts the m...</td>\n",
       "      <td>Sun 19 May - Sun 21 Jul 2024</td>\n",
       "      <td>Main Show</td>\n",
       "      <td>https://cdn.ronniescotts.co.uk/uploads/_listin...</td>\n",
       "      <td>Yes</td>\n",
       "      <td>title: Natalie Williams' Soul Family descripti...</td>\n",
       "    </tr>\n",
       "    <tr>\n",
       "      <th>1</th>\n",
       "      <td>2</td>\n",
       "      <td>Sunday Live Music Sessions: Brass Volcanoes Ne...</td>\n",
       "      <td>London's most joyful and spirited New Orleans ...</td>\n",
       "      <td>Sun 19 May 2024</td>\n",
       "      <td>Upstairs @ Ronnie's</td>\n",
       "      <td>https://cdn.ronniescotts.co.uk/uploads/_listin...</td>\n",
       "      <td>No</td>\n",
       "      <td>title: Sunday Live Music Sessions: Brass Volca...</td>\n",
       "    </tr>\n",
       "  </tbody>\n",
       "</table>\n",
       "</div>"
      ],
      "text/plain": [
       "   Position                                              title  \\\n",
       "0         1                      Natalie Williams' Soul Family   \n",
       "1         2  Sunday Live Music Sessions: Brass Volcanoes Ne...   \n",
       "\n",
       "                                         description  \\\n",
       "0  Soul at its best: Natalie Williams hosts the m...   \n",
       "1  London's most joyful and spirited New Orleans ...   \n",
       "\n",
       "                           date                stage  \\\n",
       "0  Sun 19 May - Sun 21 Jul 2024            Main Show   \n",
       "1               Sun 19 May 2024  Upstairs @ Ronnie's   \n",
       "\n",
       "                                           image_url Interested  \\\n",
       "0  https://cdn.ronniescotts.co.uk/uploads/_listin...        Yes   \n",
       "1  https://cdn.ronniescotts.co.uk/uploads/_listin...         No   \n",
       "\n",
       "                                            combined  \n",
       "0  title: Natalie Williams' Soul Family descripti...  \n",
       "1  title: Sunday Live Music Sessions: Brass Volca...  "
      ]
     },
     "execution_count": 2,
     "metadata": {},
     "output_type": "execute_result"
    }
   ],
   "source": [
    "df = pd.read_csv('data/ronnie_scotts_graded_booter_100.csv')\n",
    "\n",
    "df['combined'] = \"title: \" + df['title'] + \" description: \" + df['description']\n",
    "\n",
    "print(len(df))\n",
    "df.head(2)"
   ]
  },
  {
   "cell_type": "code",
   "execution_count": 8,
   "metadata": {},
   "outputs": [],
   "source": [
    "import json\n",
    "\n",
    "df = pd.read_csv('data/ronnie_scotts_graded_booter_100.csv')[:10]\n",
    "output = df.rename(columns={'Position': 'id'})\n",
    "output = output.drop([\"Interested\"], axis=1)\n",
    "json_output = literal_eval(output.to_json(orient='records'))\n",
    "json_output\n",
    "\n",
    "# File path\n",
    "file_path = \"output.json\"\n",
    "\n",
    "# Write JSON to file\n",
    "with open(file_path, \"w\") as file:\n",
    "  json.dump(json_output, file)"
   ]
  },
  {
   "cell_type": "markdown",
   "metadata": {},
   "source": [
    "## Embeddings"
   ]
  },
  {
   "cell_type": "code",
   "execution_count": 6,
   "metadata": {},
   "outputs": [
    {
     "data": {
      "text/plain": [
       "100"
      ]
     },
     "execution_count": 6,
     "metadata": {},
     "output_type": "execute_result"
    }
   ],
   "source": [
    "embedding_model = \"text-embedding-3-small\"\n",
    "embedding_encoding = \"cl100k_base\"\n",
    "max_tokens = 8000  # the maximum for text-embedding-3-small is 8191\n",
    "\n",
    "encoding = tiktoken.get_encoding(embedding_encoding)\n",
    "\n",
    "# omit reviews that are too long to embed\n",
    "df[\"n_tokens\"] = df.combined.apply(lambda x: len(encoding.encode(x)))\n",
    "df = df[df.n_tokens <= max_tokens]\n",
    "len(df)"
   ]
  },
  {
   "cell_type": "markdown",
   "metadata": {},
   "source": [
    "No entries exceed 8000 tokens"
   ]
  },
  {
   "cell_type": "code",
   "execution_count": 7,
   "metadata": {},
   "outputs": [],
   "source": [
    "# Ensure you have your API key set in your environment per the README: https://github.com/openai/openai-python#usage\n",
    "\n",
    "# This may take a few minutes\n",
    "df[\"embedding\"] = df.combined.apply(lambda x: get_embedding(x, model=embedding_model))\n",
    "df.to_csv(\"data/ronnie_scotts_graded_booter_embeddings.csv\")"
   ]
  },
  {
   "cell_type": "markdown",
   "metadata": {},
   "source": [
    "## Split Data"
   ]
  },
  {
   "cell_type": "code",
   "execution_count": 9,
   "metadata": {},
   "outputs": [],
   "source": [
    "# split data into train and test\n",
    "X_train, X_test, y_train, y_test = train_test_split(\n",
    "    list(df.embedding.values), df.Interested, test_size=0.2, random_state=42\n",
    ")"
   ]
  },
  {
   "cell_type": "code",
   "execution_count": 17,
   "metadata": {},
   "outputs": [
    {
     "name": "stdout",
     "output_type": "stream",
     "text": [
      "              precision    recall  f1-score   support\n",
      "\n",
      "          No       0.88      1.00      0.93        14\n",
      "         Yes       1.00      0.67      0.80         6\n",
      "\n",
      "    accuracy                           0.90        20\n",
      "   macro avg       0.94      0.83      0.87        20\n",
      "weighted avg       0.91      0.90      0.89        20\n",
      "\n"
     ]
    }
   ],
   "source": [
    "# train random forest classifier\n",
    "clf = RandomForestClassifier(n_estimators=100)\n",
    "clf.fit(X_train, y_train)\n",
    "preds = clf.predict(X_test)\n",
    "probas = clf.predict_proba(X_test)\n",
    "\n",
    "report = classification_report(y_test, preds)\n",
    "print(report)"
   ]
  }
 ],
 "metadata": {
  "kernelspec": {
   "display_name": "Python 3",
   "language": "python",
   "name": "python3"
  },
  "language_info": {
   "codemirror_mode": {
    "name": "ipython",
    "version": 3
   },
   "file_extension": ".py",
   "mimetype": "text/x-python",
   "name": "python",
   "nbconvert_exporter": "python",
   "pygments_lexer": "ipython3",
   "version": "3.10.12"
  }
 },
 "nbformat": 4,
 "nbformat_minor": 2
}
