{
 "cells": [
  {
   "cell_type": "code",
   "execution_count": 1,
   "metadata": {},
   "outputs": [],
   "source": [
    "import pandas as pd\n",
    "import tiktoken\n",
    "\n",
    "from utils.embeddings_utils import get_embedding\n",
    "\n",
    "import numpy as np\n",
    "from ast import literal_eval\n",
    "\n",
    "from sklearn.ensemble import RandomForestClassifier\n",
    "from sklearn.model_selection import train_test_split\n",
    "from sklearn.metrics import classification_report, accuracy_score"
   ]
  },
  {
   "cell_type": "code",
   "execution_count": 2,
   "metadata": {},
   "outputs": [],
   "source": [
    "favourites = pd.read_json('data/edinburgh_favourites.json')\n",
    "labelled = pd.read_json('data/edinburgh_mommy_50.json')"
   ]
  },
  {
   "cell_type": "code",
   "execution_count": 3,
   "metadata": {},
   "outputs": [],
   "source": [
    "labelled = labelled[['title', 'description', 'liked']]\n",
    "favourites = favourites[['title', 'description']]\n",
    "favourites['liked'] = True\n",
    "\n"
   ]
  },
  {
   "cell_type": "markdown",
   "metadata": {},
   "source": [
    "## Data Selection\n",
    "\n",
    "I have 45 events that she likes, and around 18 that she doesnt. "
   ]
  },
  {
   "cell_type": "code",
   "execution_count": 4,
   "metadata": {},
   "outputs": [],
   "source": [
    "data = pd.concat([labelled, favourites.sample(25)], ignore_index=True)"
   ]
  },
  {
   "cell_type": "code",
   "execution_count": 5,
   "metadata": {},
   "outputs": [
    {
     "data": {
      "text/html": [
       "<div>\n",
       "<style scoped>\n",
       "    .dataframe tbody tr th:only-of-type {\n",
       "        vertical-align: middle;\n",
       "    }\n",
       "\n",
       "    .dataframe tbody tr th {\n",
       "        vertical-align: top;\n",
       "    }\n",
       "\n",
       "    .dataframe thead th {\n",
       "        text-align: right;\n",
       "    }\n",
       "</style>\n",
       "<table border=\"1\" class=\"dataframe\">\n",
       "  <thead>\n",
       "    <tr style=\"text-align: right;\">\n",
       "      <th></th>\n",
       "      <th>title</th>\n",
       "      <th>description</th>\n",
       "      <th>liked</th>\n",
       "    </tr>\n",
       "  </thead>\n",
       "  <tbody>\n",
       "    <tr>\n",
       "      <th>0</th>\n",
       "      <td>Tatty Macleod: Fugue</td>\n",
       "      <td>Time Out 10 Best Comedy Shows at the Fringe 20...</td>\n",
       "      <td>False</td>\n",
       "    </tr>\n",
       "    <tr>\n",
       "      <th>1</th>\n",
       "      <td>Jin Hao Li: Swimming in a Submarine</td>\n",
       "      <td>In his debut hour, Jin Hao walks you through t...</td>\n",
       "      <td>False</td>\n",
       "    </tr>\n",
       "    <tr>\n",
       "      <th>2</th>\n",
       "      <td>The Jewel of Africa CANCELLED</td>\n",
       "      <td>A unique physical dance show produced to carry...</td>\n",
       "      <td>False</td>\n",
       "    </tr>\n",
       "    <tr>\n",
       "      <th>3</th>\n",
       "      <td>EIFF: Animation Shorts</td>\n",
       "      <td>Animations to arouse the senses. Encounter exc...</td>\n",
       "      <td>True</td>\n",
       "    </tr>\n",
       "    <tr>\n",
       "      <th>4</th>\n",
       "      <td>Juliette Burton's Talking Crazy CANCELLED</td>\n",
       "      <td>In crazy times, what keeps us sane? Comedian, ...</td>\n",
       "      <td>True</td>\n",
       "    </tr>\n",
       "    <tr>\n",
       "      <th>...</th>\n",
       "      <td>...</td>\n",
       "      <td>...</td>\n",
       "      <td>...</td>\n",
       "    </tr>\n",
       "    <tr>\n",
       "      <th>80</th>\n",
       "      <td>The Big Bite-Size Breakfast Show</td>\n",
       "      <td>Good morning Edinburgh! We're back bringing yo...</td>\n",
       "      <td>True</td>\n",
       "    </tr>\n",
       "    <tr>\n",
       "      <th>81</th>\n",
       "      <td>The Sound Inside</td>\n",
       "      <td>UK premiere. Nominated for six Tony Awards inc...</td>\n",
       "      <td>True</td>\n",
       "    </tr>\n",
       "    <tr>\n",
       "      <th>82</th>\n",
       "      <td>12th Year! John Hunt Four O'Clock Afternoon Bl...</td>\n",
       "      <td>'Fantastic!' (Jools Holland). 'Boogie-woogie s...</td>\n",
       "      <td>True</td>\n",
       "    </tr>\n",
       "    <tr>\n",
       "      <th>83</th>\n",
       "      <td>Every Brilliant Thing</td>\n",
       "      <td>Ten years on from the play’s debut, a new prod...</td>\n",
       "      <td>True</td>\n",
       "    </tr>\n",
       "    <tr>\n",
       "      <th>84</th>\n",
       "      <td>12th Year! John Hunt Four O'Clock Afternoon Bl...</td>\n",
       "      <td>'Fantastic!' (Jools Holland). 'Boogie-woogie s...</td>\n",
       "      <td>True</td>\n",
       "    </tr>\n",
       "  </tbody>\n",
       "</table>\n",
       "<p>85 rows × 3 columns</p>\n",
       "</div>"
      ],
      "text/plain": [
       "                                                title  \\\n",
       "0                                Tatty Macleod: Fugue   \n",
       "1                 Jin Hao Li: Swimming in a Submarine   \n",
       "2                       The Jewel of Africa CANCELLED   \n",
       "3                              EIFF: Animation Shorts   \n",
       "4           Juliette Burton's Talking Crazy CANCELLED   \n",
       "..                                                ...   \n",
       "80                   The Big Bite-Size Breakfast Show   \n",
       "81                                   The Sound Inside   \n",
       "82  12th Year! John Hunt Four O'Clock Afternoon Bl...   \n",
       "83                              Every Brilliant Thing   \n",
       "84  12th Year! John Hunt Four O'Clock Afternoon Bl...   \n",
       "\n",
       "                                          description  liked  \n",
       "0   Time Out 10 Best Comedy Shows at the Fringe 20...  False  \n",
       "1   In his debut hour, Jin Hao walks you through t...  False  \n",
       "2   A unique physical dance show produced to carry...  False  \n",
       "3   Animations to arouse the senses. Encounter exc...   True  \n",
       "4   In crazy times, what keeps us sane? Comedian, ...   True  \n",
       "..                                                ...    ...  \n",
       "80  Good morning Edinburgh! We're back bringing yo...   True  \n",
       "81  UK premiere. Nominated for six Tony Awards inc...   True  \n",
       "82  'Fantastic!' (Jools Holland). 'Boogie-woogie s...   True  \n",
       "83  Ten years on from the play’s debut, a new prod...   True  \n",
       "84  'Fantastic!' (Jools Holland). 'Boogie-woogie s...   True  \n",
       "\n",
       "[85 rows x 3 columns]"
      ]
     },
     "execution_count": 5,
     "metadata": {},
     "output_type": "execute_result"
    }
   ],
   "source": [
    "data"
   ]
  },
  {
   "cell_type": "markdown",
   "metadata": {},
   "source": [
    "## Data Preparation"
   ]
  },
  {
   "cell_type": "code",
   "execution_count": 6,
   "metadata": {},
   "outputs": [],
   "source": [
    "data['combined'] = data['title'] + '; ' + data['description']"
   ]
  },
  {
   "cell_type": "code",
   "execution_count": 7,
   "metadata": {},
   "outputs": [
    {
     "data": {
      "text/plain": [
       "85"
      ]
     },
     "execution_count": 7,
     "metadata": {},
     "output_type": "execute_result"
    }
   ],
   "source": [
    "embedding_model = \"text-embedding-3-small\"\n",
    "embedding_encoding = \"cl100k_base\"\n",
    "max_tokens = 8000  # the maximum for text-embedding-3-small is 8191\n",
    "\n",
    "encoding = tiktoken.get_encoding(embedding_encoding)\n",
    "\n",
    "# omit reviews that are too long to embed\n",
    "data[\"n_tokens\"] = data.combined.apply(lambda x: len(encoding.encode(x)))\n",
    "data = data[data.n_tokens <= max_tokens]\n",
    "len(data)"
   ]
  },
  {
   "cell_type": "markdown",
   "metadata": {},
   "source": [
    "### Generate Embeddings"
   ]
  },
  {
   "cell_type": "code",
   "execution_count": 8,
   "metadata": {},
   "outputs": [],
   "source": [
    "# This may take a few minutes\n",
    "data[\"embedding\"] = data.combined.apply(lambda x: get_embedding(x, model=embedding_model))\n",
    "data.to_csv(\"data/edinburgh_training_data_embeddings.csv\")"
   ]
  },
  {
   "cell_type": "code",
   "execution_count": 9,
   "metadata": {},
   "outputs": [
    {
     "name": "stdout",
     "output_type": "stream",
     "text": [
      "              precision    recall  f1-score   support\n",
      "\n",
      "       False       0.50      0.20      0.29         5\n",
      "        True       0.73      0.92      0.81        12\n",
      "\n",
      "    accuracy                           0.71        17\n",
      "   macro avg       0.62      0.56      0.55        17\n",
      "weighted avg       0.66      0.71      0.66        17\n",
      "\n"
     ]
    }
   ],
   "source": [
    "X_train, X_test, y_train, y_test = train_test_split(\n",
    "    list(data.embedding.values), data.liked, test_size=0.2, random_state=42\n",
    ")\n",
    "\n",
    "# train random forest classifier\n",
    "clf = RandomForestClassifier(n_estimators=100)\n",
    "clf.fit(X_train, y_train)\n",
    "preds = clf.predict(X_test)\n",
    "probas = clf.predict_proba(X_test)\n",
    "\n",
    "report = classification_report(y_test, preds)\n",
    "print(report)"
   ]
  },
  {
   "cell_type": "code",
   "execution_count": 10,
   "metadata": {},
   "outputs": [
    {
     "data": {
      "text/plain": [
       "77     True\n",
       "42    False\n",
       "49     True\n",
       "11    False\n",
       "30    False\n",
       "      ...  \n",
       "20     True\n",
       "60     True\n",
       "71     True\n",
       "14     True\n",
       "51    False\n",
       "Name: liked, Length: 68, dtype: bool"
      ]
     },
     "execution_count": 10,
     "metadata": {},
     "output_type": "execute_result"
    }
   ],
   "source": [
    "y_train"
   ]
  },
  {
   "cell_type": "code",
   "execution_count": null,
   "metadata": {},
   "outputs": [],
   "source": []
  }
 ],
 "metadata": {
  "kernelspec": {
   "display_name": "Python 3",
   "language": "python",
   "name": "python3"
  },
  "language_info": {
   "codemirror_mode": {
    "name": "ipython",
    "version": 3
   },
   "file_extension": ".py",
   "mimetype": "text/x-python",
   "name": "python",
   "nbconvert_exporter": "python",
   "pygments_lexer": "ipython3",
   "version": "3.10.12"
  }
 },
 "nbformat": 4,
 "nbformat_minor": 2
}
